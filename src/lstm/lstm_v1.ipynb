{
 "cells": [
  {
   "cell_type": "code",
   "execution_count": 1,
   "metadata": {},
   "outputs": [
    {
     "name": "stderr",
     "output_type": "stream",
     "text": [
      "[nltk_data] Downloading package punkt to\n",
      "[nltk_data]     C:\\Users\\halex\\AppData\\Roaming\\nltk_data...\n",
      "[nltk_data]   Package punkt is already up-to-date!\n",
      "[nltk_data] Downloading package stopwords to\n",
      "[nltk_data]     C:\\Users\\halex\\AppData\\Roaming\\nltk_data...\n",
      "[nltk_data]   Package stopwords is already up-to-date!\n"
     ]
    }
   ],
   "source": [
    "\"\"\"\n",
    "Este script define o processo completo de treinamento e avaliação de um modelo de análise de sentimentos baseado em LSTM.\n",
    "Ele envolve o carregamento e pré-processamento de dados, criação de datasets, configuração e treinamento do modelo,\n",
    "avaliação do desempenho em um conjunto de validação e teste, e, finalmente, salva o modelo treinado e os artefatos necessários.\n",
    "\n",
    "Dependências:\n",
    "- PyTorch: Utilizado para construir e treinar a rede neural.\n",
    "- Scikit-Learn: Usado para métricas de avaliação e pré-processamento.\n",
    "- Tabulate: Para formatar tabelas de resultados de classificação.\n",
    "- TQDM: Fornece uma barra de progresso para loops.\n",
    "- Pickle: Para salvar o modelo e o vocabulário.\n",
    "\n",
    "Funções Principais:\n",
    "- `collate_batch`: Prepara batches de dados, gerenciando padding e conversão para tensores PyTorch.\n",
    "- `print_classification_report`: Imprime um relatório formatado das métricas de classificação.\n",
    "- `evaluate_model`: Avalia o modelo no conjunto de dados fornecido.\n",
    "- `train_and_evaluate`: Treina o modelo usando dados de treinamento e valida usando um conjunto de validação.\n",
    "- `main`: Orquestra o processo de carregamento de dados, treinamento, avaliação e salvamento de artefatos.\n",
    "\n",
    "Fluxo:\n",
    "1. Dados são carregados e pré-processados.\n",
    "2. Datasets para treino, validação e teste são criados.\n",
    "3. Um modelo LSTM é instanciado e treinado.\n",
    "4. O modelo é avaliado em dados de validação e teste.\n",
    "5. Resultados são impressos e o modelo é salvo.\n",
    "\n",
    "Membros do grupo:\n",
    "\n",
    "Alonso Batista de Oliveira Júnior\n",
    "André Moreira de Carvalho\n",
    "Gustavo Castro Candeia\n",
    "Halex Maciel Silva Vieira\n",
    "Welbert Luiz Silva Junior\n",
    "\n",
    "\n",
    "Observação:\n",
    "    \n",
    "    Treinando com learning rate de 0.0001\n",
    "    \n",
    "\"\"\"\n",
    "\n",
    "import os\n",
    "import warnings\n",
    "from copy import deepcopy\n",
    "from typing import Tuple\n",
    "\n",
    "import torch\n",
    "import torch.nn as nn\n",
    "from sklearn.metrics import classification_report\n",
    "from tabulate import tabulate\n",
    "from torch.optim import Adam\n",
    "from torch.optim.lr_scheduler import ReduceLROnPlateau\n",
    "from torch.utils.data import DataLoader\n",
    "from tqdm import tqdm\n",
    "\n",
    "from model import SentimentLSTM\n",
    "from utils import create_datasets, load_and_preprocess_data, tokenize_and_encode, CONFIG\n",
    "import pickle\n",
    "\n",
    "warnings.filterwarnings(\"ignore\")"
   ]
  },
  {
   "cell_type": "code",
   "execution_count": null,
   "metadata": {},
   "outputs": [],
   "source": [
    "def collate_batch(batch):\n",
    "    \"\"\"\n",
    "    Função para preparar batches de dados, aplicando padding e convertendo listas de textos e rótulos para tensores PyTorch.\n",
    "    \n",
    "    Args:\n",
    "        batch (list of tuples): Uma lista de tuplas, onde cada tupla contém um tensor de texto e seu respectivo rótulo.\n",
    "    \n",
    "    Returns:\n",
    "        Tuple[torch.Tensor, torch.Tensor, torch.Tensor]: Tensores de textos, rótulos e comprimentos originais dos textos.\n",
    "    \"\"\"\n",
    "    texts, labels = zip(*[(item[0], item[1]) for item in batch])\n",
    "    labels = torch.tensor(labels, dtype=torch.long)\n",
    "    texts = nn.utils.rnn.pad_sequence(texts, batch_first=True, padding_value=0)  # Assume-se que 0 é o índice de padding\n",
    "    lengths = torch.tensor([len(text) for text in texts], dtype=torch.long)\n",
    "    return texts, labels, lengths\n",
    "\n",
    "def print_classification_report(report: dict) -> None:\n",
    "    \"\"\"\n",
    "    Imprime um relatório formatado das métricas de classificação usando a biblioteca tabulate.\n",
    "    \n",
    "    Args:\n",
    "        report (dict): Um dicionário contendo as métricas de classificação para cada classe.\n",
    "    \"\"\"\n",
    "    headers = [\"Classe\", \"Precisão\", \"Revocação\", \"Pontuação F1\"]\n",
    "    rows = []\n",
    "    for label in ['negative', 'positive', 'uncertainty', 'litigious']:\n",
    "        rows.append([\n",
    "            label.capitalize(),\n",
    "            f\"{report[label]['precision']:.2f}\",\n",
    "            f\"{report[label]['recall']:.2f}\",\n",
    "            f\"{report[label]['f1-score']:.2f}\"\n",
    "        ])\n",
    "    print(tabulate(rows, headers=headers, tablefmt=\"grid\"))\n",
    "    print(f\"\\nAcurácia Geral: {report['accuracy']:.2f}%\")"
   ]
  },
  {
   "cell_type": "code",
   "execution_count": null,
   "metadata": {},
   "outputs": [],
   "source": [
    "def evaluate_model(model: nn.Module, loader: DataLoader, device: torch.device) -> Tuple[float, float, dict]:\n",
    "    \"\"\"\n",
    "    Avalia o modelo no conjunto de dados fornecido calculando perda, acurácia e outras métricas de classificação.\n",
    "    \n",
    "    Args:\n",
    "        model (nn.Module): O modelo de rede neural a ser avaliado.\n",
    "        loader (DataLoader): DataLoader fornecendo os dados de avaliação.\n",
    "        device (torch.device): Dispositivo de hardware onde o modelo está sendo executado (CPU ou GPU).\n",
    "    \n",
    "    Returns:\n",
    "        Tuple[float, float, dict]: Média de perdas, acurácia e um dicionário com o relatório de classificação.\n",
    "    \"\"\"\n",
    "    model.eval()\n",
    "    total_loss = 0\n",
    "    total_correct = 0\n",
    "    total_samples = 0\n",
    "    y_true = []\n",
    "    y_pred = []\n",
    "    criterion = nn.CrossEntropyLoss()\n",
    "\n",
    "    with torch.no_grad():\n",
    "        for texts, labels, lengths in loader:\n",
    "            texts, labels = texts.to(device), labels.to(device)\n",
    "            outputs = model(texts)\n",
    "            loss = criterion(outputs, labels)\n",
    "            total_loss += loss.item()\n",
    "            _, predicted = torch.max(outputs, 1)\n",
    "            total_correct += (predicted == labels).sum().item()\n",
    "            total_samples += labels.size(0)\n",
    "            y_true.extend(labels.cpu().numpy())\n",
    "            y_pred.extend(predicted.cpu().numpy())\n",
    "\n",
    "    accuracy = total_correct / total_samples\n",
    "    report = classification_report(y_true, y_pred, target_names=['negative', 'positive', 'uncertainty', 'litigious'], output_dict=True, zero_division=0)\n",
    "    return total_loss / len(loader), accuracy, report"
   ]
  },
  {
   "cell_type": "code",
   "execution_count": null,
   "metadata": {},
   "outputs": [],
   "source": [
    "def train_and_evaluate(model: nn.Module, train_loader: DataLoader, val_loader: DataLoader, device: torch.device) -> nn.Module:\n",
    "    \"\"\"\n",
    "    Treina o modelo usando dados de treinamento e valida usando um conjunto de validação.\n",
    "    Implementa redução de taxa de aprendizado em plateau e parada antecipada para evitar overfitting.\n",
    "    \n",
    "    Args:\n",
    "        model (nn.Module): O modelo a ser treinado e avaliado.\n",
    "        train_loader (DataLoader): DataLoader para o conjunto de treinamento.\n",
    "        val_loader (DataLoader): DataLoader para o conjunto de validação.\n",
    "        device (torch.device): Dispositivo onde o modelo será executado.\n",
    "    \n",
    "    Returns:\n",
    "        nn.Module: O modelo com os pesos ajustados pelo treinamento.\n",
    "    \"\"\"\n",
    "    criterion = nn.CrossEntropyLoss()\n",
    "    optimizer = Adam(model.parameters(), lr=CONFIG['lr'], weight_decay=1e-5)\n",
    "    scheduler = ReduceLROnPlateau(optimizer, 'min', patience=5, factor=0.5)\n",
    "\n",
    "    best_val_loss = float('inf')\n",
    "    best_model = None\n",
    "    no_improve_epochs = 0\n",
    "    early_stopping_patience = 10\n",
    "\n",
    "    for epoch in range(CONFIG['num_epochs']):\n",
    "        model.train()\n",
    "        train_loss = 0\n",
    "        train_iter = tqdm(train_loader, desc=f\"Epoch {epoch+1}/{CONFIG['num_epochs']} - Training\")\n",
    "\n",
    "        for texts, labels, lengths in train_iter:\n",
    "            texts, labels = texts.to(device), labels.to(device)\n",
    "            optimizer.zero_grad()\n",
    "            outputs = model(texts)\n",
    "            loss = criterion(outputs, labels)\n",
    "            loss.backward()\n",
    "            optimizer.step()\n",
    "            train_loss += loss.item()\n",
    "            train_iter.set_postfix(loss=loss.item())\n",
    "\n",
    "        val_loss, val_accuracy, val_report = evaluate_model(model, val_loader, device)\n",
    "        scheduler.step(val_loss)\n",
    "\n",
    "        if val_loss < best_val_loss:\n",
    "            best_val_loss = val_loss\n",
    "            best_model = deepcopy(model.state_dict())\n",
    "            no_improve_epochs = 0\n",
    "        else:\n",
    "            no_improve_epochs += 1\n",
    "\n",
    "        print(f\"Época {epoch+1}: Perda no Treino: {train_loss / len(train_loader)}, Perda na Validação: {val_loss}\")\n",
    "        print(f\"Acurácia na validação: {val_accuracy:.2f}%\")\n",
    "        print(\"Relatório de Classificação da Validação:\")\n",
    "        print_classification_report(val_report)\n",
    "\n",
    "        if no_improve_epochs >= early_stopping_patience:\n",
    "            print(f\"Parada antecipada após {early_stopping_patience} épocas sem melhora.\")\n",
    "            break\n",
    "\n",
    "    model.load_state_dict(best_model)\n",
    "    return model"
   ]
  },
  {
   "cell_type": "code",
   "execution_count": null,
   "metadata": {},
   "outputs": [],
   "source": [
    "def main():\n",
    "    \"\"\"\n",
    "    Função principal que orquestra o processo de carregamento dos dados, criação dos datasets,\n",
    "    inicialização do modelo, treinamento, avaliação e salvamento dos artefatos do modelo.\n",
    "    \"\"\"\n",
    "    device = torch.device(\"cuda\" if torch.cuda.is_available() else \"cpu\")\n",
    "    print(f\"Usando dispositivo: {device.type.upper()}, {torch.cuda.get_device_name(0) if device.type == 'cuda' else 'CPU'}\")\n",
    "\n",
    "    print(\"Carregando e processando os dados...\")\n",
    "    df, label_encoder, vocab = load_and_preprocess_data(CONFIG['data_dir'])\n",
    "    print(\"Dados carregados e processados com sucesso.\")\n",
    "\n",
    "    print(\"Criando datasets...\")\n",
    "    train_dataset, val_dataset, test_dataset = create_datasets(df, label_encoder, vocab, CONFIG)\n",
    "    print(\"Datasets criados com sucesso.\")\n",
    "\n",
    "    train_loader = DataLoader(train_dataset, batch_size=CONFIG['batch_size'], shuffle=True, collate_fn=collate_batch)\n",
    "    val_loader = DataLoader(val_dataset, batch_size=CONFIG['batch_size'], collate_fn=collate_batch)\n",
    "    test_loader = DataLoader(test_dataset, batch_size=CONFIG['batch_size'], collate_fn=collate_batch)\n",
    "\n",
    "    print(\"Inicializando o modelo LSTM...\")\n",
    "    model = SentimentLSTM(len(vocab), CONFIG).to(device)\n",
    "    print(f\"Modelo inicializado e movido para {device.type}\")\n",
    "\n",
    "    print(\"Iniciando o processo de treinamento...\")\n",
    "    trained_model = train_and_evaluate(model, train_loader, val_loader, device)\n",
    "    print(\"Treinamento concluído com sucesso.\")\n",
    "\n",
    "    print(\"Avaliando o modelo nos dados de teste...\")\n",
    "    test_loss, test_accuracy, test_report = evaluate_model(trained_model, test_loader, device)\n",
    "    print(f\"Perda em teste: {test_loss:.4f}\")\n",
    "    print(f\"Acurácia em teste: {test_accuracy:.2f}%\")\n",
    "    print(\"Relatório de classificação:\\n\")\n",
    "    print_classification_report(test_report)\n",
    "    print(\"Avaliação em teste concluída.\")\n",
    "\n",
    "    print(\"Salvando o modelo treinado e vocabulário...\")\n",
    "    if not os.path.exists(CONFIG['models_dir']):\n",
    "        os.makedirs(CONFIG['models_dir'])\n",
    "    torch.save(trained_model.state_dict(), os.path.join(CONFIG['models_dir'], 'sentiment_lstm_model_v1.pth'))\n",
    "    with open(os.path.join(CONFIG['models_dir'], 'vocab_v1.pkl'), 'wb') as f:\n",
    "        pickle.dump(vocab, f)\n",
    "    with open(os.path.join(CONFIG['models_dir'], 'label_encoder_v1.pkl'), 'wb') as f:\n",
    "        pickle.dump(label_encoder, f)\n",
    "    print(\"Modelo, vocabulário, e codificador de label salvos com sucesso.\")"
   ]
  },
  {
   "cell_type": "code",
   "execution_count": null,
   "metadata": {},
   "outputs": [
    {
     "name": "stdout",
     "output_type": "stream",
     "text": [
      "Usando dispositivo: CUDA, NVIDIA GeForce RTX 3060\n",
      "Carregando e processando os dados...\n",
      "Mapeamento dos Labels: {'litigious': 0, 'negative': 1, 'positive': 2, 'uncertainty': 3}\n",
      "Dados carregados e processados com sucesso.\n",
      "Criando datasets...\n"
     ]
    },
    {
     "name": "stderr",
     "output_type": "stream",
     "text": [
      "Tokenizando Textos: 100%|██████████| 394053/394053 [01:13<00:00, 5368.18it/s]\n",
      "Tokenizando Textos: 100%|██████████| 131351/131351 [00:24<00:00, 5328.54it/s]\n",
      "Tokenizando Textos: 100%|██████████| 131352/131352 [00:24<00:00, 5287.50it/s]\n"
     ]
    },
    {
     "name": "stdout",
     "output_type": "stream",
     "text": [
      "Datasets criados com sucesso.\n",
      "Inicializando o modelo LSTM...\n",
      "Modelo inicializado e movido para cuda\n",
      "Iniciando o processo de treinamento...\n"
     ]
    },
    {
     "name": "stderr",
     "output_type": "stream",
     "text": [
      "Epoch 1/50 - Training: 100%|██████████| 6158/6158 [08:52<00:00, 11.56it/s, loss=0.00784]\n"
     ]
    },
    {
     "name": "stdout",
     "output_type": "stream",
     "text": [
      "Época 1: Perda no Treino: 0.42174238221660576, Perda na Validação: 0.11672683508864377\n",
      "Acurácia na validação: 0.96%\n",
      "Relatório de Classificação da Validação:\n",
      "+-------------+------------+-------------+----------------+\n",
      "| Classe      |   Precisão |   Revocação |   Pontuação F1 |\n",
      "+=============+============+=============+================+\n",
      "| Negative    |       0.93 |        0.99 |           0.96 |\n",
      "+-------------+------------+-------------+----------------+\n",
      "| Positive    |       0.98 |        0.93 |           0.96 |\n",
      "+-------------+------------+-------------+----------------+\n",
      "| Uncertainty |       0.97 |        0.96 |           0.96 |\n",
      "+-------------+------------+-------------+----------------+\n",
      "| Litigious   |       0.95 |        0.96 |           0.95 |\n",
      "+-------------+------------+-------------+----------------+\n",
      "\n",
      "Acurácia Geral: 0.96%\n"
     ]
    },
    {
     "name": "stderr",
     "output_type": "stream",
     "text": [
      "Epoch 2/50 - Training: 100%|██████████| 6158/6158 [08:54<00:00, 11.52it/s, loss=0.451]  \n"
     ]
    },
    {
     "name": "stdout",
     "output_type": "stream",
     "text": [
      "Época 2: Perda no Treino: 0.10223124829883475, Perda na Validação: 0.09586989137532777\n",
      "Acurácia na validação: 0.96%\n",
      "Relatório de Classificação da Validação:\n",
      "+-------------+------------+-------------+----------------+\n",
      "| Classe      |   Precisão |   Revocação |   Pontuação F1 |\n",
      "+=============+============+=============+================+\n",
      "| Negative    |       0.95 |        0.98 |           0.97 |\n",
      "+-------------+------------+-------------+----------------+\n",
      "| Positive    |       0.99 |        0.94 |           0.96 |\n",
      "+-------------+------------+-------------+----------------+\n",
      "| Uncertainty |       0.96 |        0.96 |           0.96 |\n",
      "+-------------+------------+-------------+----------------+\n",
      "| Litigious   |       0.95 |        0.96 |           0.96 |\n",
      "+-------------+------------+-------------+----------------+\n",
      "\n",
      "Acurácia Geral: 0.96%\n"
     ]
    },
    {
     "name": "stderr",
     "output_type": "stream",
     "text": [
      "Epoch 3/50 - Training: 100%|██████████| 6158/6158 [08:53<00:00, 11.55it/s, loss=0.192]  \n"
     ]
    },
    {
     "name": "stdout",
     "output_type": "stream",
     "text": [
      "Época 3: Perda no Treino: 0.0931840453856631, Perda na Validação: 0.09250665002938449\n",
      "Acurácia na validação: 0.96%\n",
      "Relatório de Classificação da Validação:\n",
      "+-------------+------------+-------------+----------------+\n",
      "| Classe      |   Precisão |   Revocação |   Pontuação F1 |\n",
      "+=============+============+=============+================+\n",
      "| Negative    |       0.94 |        0.99 |           0.96 |\n",
      "+-------------+------------+-------------+----------------+\n",
      "| Positive    |       0.98 |        0.95 |           0.96 |\n",
      "+-------------+------------+-------------+----------------+\n",
      "| Uncertainty |       0.98 |        0.96 |           0.97 |\n",
      "+-------------+------------+-------------+----------------+\n",
      "| Litigious   |       0.96 |        0.96 |           0.96 |\n",
      "+-------------+------------+-------------+----------------+\n",
      "\n",
      "Acurácia Geral: 0.96%\n"
     ]
    },
    {
     "name": "stderr",
     "output_type": "stream",
     "text": [
      "Epoch 4/50 - Training: 100%|██████████| 6158/6158 [08:52<00:00, 11.56it/s, loss=0.00791]\n"
     ]
    },
    {
     "name": "stdout",
     "output_type": "stream",
     "text": [
      "Época 4: Perda no Treino: 0.08962947691023379, Perda na Validação: 0.09179316377866047\n",
      "Acurácia na validação: 0.96%\n",
      "Relatório de Classificação da Validação:\n",
      "+-------------+------------+-------------+----------------+\n",
      "| Classe      |   Precisão |   Revocação |   Pontuação F1 |\n",
      "+=============+============+=============+================+\n",
      "| Negative    |       0.96 |        0.98 |           0.97 |\n",
      "+-------------+------------+-------------+----------------+\n",
      "| Positive    |       0.95 |        0.97 |           0.96 |\n",
      "+-------------+------------+-------------+----------------+\n",
      "| Uncertainty |       0.97 |        0.96 |           0.97 |\n",
      "+-------------+------------+-------------+----------------+\n",
      "| Litigious   |       0.97 |        0.95 |           0.96 |\n",
      "+-------------+------------+-------------+----------------+\n",
      "\n",
      "Acurácia Geral: 0.96%\n"
     ]
    },
    {
     "name": "stderr",
     "output_type": "stream",
     "text": [
      "Epoch 5/50 - Training: 100%|██████████| 6158/6158 [08:53<00:00, 11.54it/s, loss=0.165]  \n"
     ]
    },
    {
     "name": "stdout",
     "output_type": "stream",
     "text": [
      "Época 5: Perda no Treino: 0.088052380252321, Perda na Validação: 0.08957821896746102\n",
      "Acurácia na validação: 0.97%\n",
      "Relatório de Classificação da Validação:\n",
      "+-------------+------------+-------------+----------------+\n",
      "| Classe      |   Precisão |   Revocação |   Pontuação F1 |\n",
      "+=============+============+=============+================+\n",
      "| Negative    |       0.95 |        0.99 |           0.97 |\n",
      "+-------------+------------+-------------+----------------+\n",
      "| Positive    |       0.98 |        0.95 |           0.96 |\n",
      "+-------------+------------+-------------+----------------+\n",
      "| Uncertainty |       0.97 |        0.97 |           0.97 |\n",
      "+-------------+------------+-------------+----------------+\n",
      "| Litigious   |       0.96 |        0.96 |           0.96 |\n",
      "+-------------+------------+-------------+----------------+\n",
      "\n",
      "Acurácia Geral: 0.97%\n"
     ]
    },
    {
     "name": "stderr",
     "output_type": "stream",
     "text": [
      "Epoch 6/50 - Training: 100%|██████████| 6158/6158 [08:58<00:00, 11.43it/s, loss=0.307]  \n"
     ]
    },
    {
     "name": "stdout",
     "output_type": "stream",
     "text": [
      "Época 6: Perda no Treino: 0.08621086664961396, Perda na Validação: 0.08969176202276209\n",
      "Acurácia na validação: 0.97%\n",
      "Relatório de Classificação da Validação:\n",
      "+-------------+------------+-------------+----------------+\n",
      "| Classe      |   Precisão |   Revocação |   Pontuação F1 |\n",
      "+=============+============+=============+================+\n",
      "| Negative    |       0.94 |        0.99 |           0.97 |\n",
      "+-------------+------------+-------------+----------------+\n",
      "| Positive    |       0.98 |        0.95 |           0.96 |\n",
      "+-------------+------------+-------------+----------------+\n",
      "| Uncertainty |       0.97 |        0.97 |           0.97 |\n",
      "+-------------+------------+-------------+----------------+\n",
      "| Litigious   |       0.96 |        0.96 |           0.96 |\n",
      "+-------------+------------+-------------+----------------+\n",
      "\n",
      "Acurácia Geral: 0.97%\n"
     ]
    },
    {
     "name": "stderr",
     "output_type": "stream",
     "text": [
      "Epoch 7/50 - Training: 100%|██████████| 6158/6158 [09:01<00:00, 11.37it/s, loss=0.0213] \n"
     ]
    },
    {
     "name": "stdout",
     "output_type": "stream",
     "text": [
      "Época 7: Perda no Treino: 0.0843379388391075, Perda na Validação: 0.08924919869991167\n",
      "Acurácia na validação: 0.97%\n",
      "Relatório de Classificação da Validação:\n",
      "+-------------+------------+-------------+----------------+\n",
      "| Classe      |   Precisão |   Revocação |   Pontuação F1 |\n",
      "+=============+============+=============+================+\n",
      "| Negative    |       0.97 |        0.98 |           0.97 |\n",
      "+-------------+------------+-------------+----------------+\n",
      "| Positive    |       0.95 |        0.97 |           0.96 |\n",
      "+-------------+------------+-------------+----------------+\n",
      "| Uncertainty |       0.97 |        0.97 |           0.97 |\n",
      "+-------------+------------+-------------+----------------+\n",
      "| Litigious   |       0.97 |        0.95 |           0.96 |\n",
      "+-------------+------------+-------------+----------------+\n",
      "\n",
      "Acurácia Geral: 0.97%\n"
     ]
    },
    {
     "name": "stderr",
     "output_type": "stream",
     "text": [
      "Epoch 8/50 - Training: 100%|██████████| 6158/6158 [09:03<00:00, 11.32it/s, loss=0.00407]\n"
     ]
    },
    {
     "name": "stdout",
     "output_type": "stream",
     "text": [
      "Época 8: Perda no Treino: 0.08194443424586655, Perda na Validação: 0.08792125813765528\n",
      "Acurácia na validação: 0.97%\n",
      "Relatório de Classificação da Validação:\n",
      "+-------------+------------+-------------+----------------+\n",
      "| Classe      |   Precisão |   Revocação |   Pontuação F1 |\n",
      "+=============+============+=============+================+\n",
      "| Negative    |       0.96 |        0.99 |           0.97 |\n",
      "+-------------+------------+-------------+----------------+\n",
      "| Positive    |       0.98 |        0.95 |           0.96 |\n",
      "+-------------+------------+-------------+----------------+\n",
      "| Uncertainty |       0.97 |        0.97 |           0.97 |\n",
      "+-------------+------------+-------------+----------------+\n",
      "| Litigious   |       0.96 |        0.96 |           0.96 |\n",
      "+-------------+------------+-------------+----------------+\n",
      "\n",
      "Acurácia Geral: 0.97%\n"
     ]
    },
    {
     "name": "stderr",
     "output_type": "stream",
     "text": [
      "Epoch 9/50 - Training: 100%|██████████| 6158/6158 [08:55<00:00, 11.51it/s, loss=0.824]  \n"
     ]
    },
    {
     "name": "stdout",
     "output_type": "stream",
     "text": [
      "Época 9: Perda no Treino: 0.07943917676833219, Perda na Validação: 0.08789333870035178\n",
      "Acurácia na validação: 0.97%\n",
      "Relatório de Classificação da Validação:\n",
      "+-------------+------------+-------------+----------------+\n",
      "| Classe      |   Precisão |   Revocação |   Pontuação F1 |\n",
      "+=============+============+=============+================+\n",
      "| Negative    |       0.98 |        0.97 |           0.98 |\n",
      "+-------------+------------+-------------+----------------+\n",
      "| Positive    |       0.95 |        0.97 |           0.96 |\n",
      "+-------------+------------+-------------+----------------+\n",
      "| Uncertainty |       0.97 |        0.97 |           0.97 |\n",
      "+-------------+------------+-------------+----------------+\n",
      "| Litigious   |       0.96 |        0.95 |           0.96 |\n",
      "+-------------+------------+-------------+----------------+\n",
      "\n",
      "Acurácia Geral: 0.97%\n"
     ]
    },
    {
     "name": "stderr",
     "output_type": "stream",
     "text": [
      "Epoch 10/50 - Training: 100%|██████████| 6158/6158 [08:58<00:00, 11.44it/s, loss=0.00877]\n"
     ]
    },
    {
     "name": "stdout",
     "output_type": "stream",
     "text": [
      "Época 10: Perda no Treino: 0.07704441373903588, Perda na Validação: 0.08716455222612371\n",
      "Acurácia na validação: 0.97%\n",
      "Relatório de Classificação da Validação:\n",
      "+-------------+------------+-------------+----------------+\n",
      "| Classe      |   Precisão |   Revocação |   Pontuação F1 |\n",
      "+=============+============+=============+================+\n",
      "| Negative    |       0.98 |        0.98 |           0.98 |\n",
      "+-------------+------------+-------------+----------------+\n",
      "| Positive    |       0.96 |        0.97 |           0.96 |\n",
      "+-------------+------------+-------------+----------------+\n",
      "| Uncertainty |       0.96 |        0.97 |           0.97 |\n",
      "+-------------+------------+-------------+----------------+\n",
      "| Litigious   |       0.97 |        0.95 |           0.96 |\n",
      "+-------------+------------+-------------+----------------+\n",
      "\n",
      "Acurácia Geral: 0.97%\n"
     ]
    },
    {
     "name": "stderr",
     "output_type": "stream",
     "text": [
      "Epoch 11/50 - Training: 100%|██████████| 6158/6158 [08:55<00:00, 11.50it/s, loss=0.846]  \n"
     ]
    },
    {
     "name": "stdout",
     "output_type": "stream",
     "text": [
      "Época 11: Perda no Treino: 0.07428792307315396, Perda na Validação: 0.08779439615145601\n",
      "Acurácia na validação: 0.97%\n",
      "Relatório de Classificação da Validação:\n",
      "+-------------+------------+-------------+----------------+\n",
      "| Classe      |   Precisão |   Revocação |   Pontuação F1 |\n",
      "+=============+============+=============+================+\n",
      "| Negative    |       0.98 |        0.98 |           0.98 |\n",
      "+-------------+------------+-------------+----------------+\n",
      "| Positive    |       0.96 |        0.96 |           0.96 |\n",
      "+-------------+------------+-------------+----------------+\n",
      "| Uncertainty |       0.97 |        0.97 |           0.97 |\n",
      "+-------------+------------+-------------+----------------+\n",
      "| Litigious   |       0.96 |        0.96 |           0.96 |\n",
      "+-------------+------------+-------------+----------------+\n",
      "\n",
      "Acurácia Geral: 0.97%\n"
     ]
    },
    {
     "name": "stderr",
     "output_type": "stream",
     "text": [
      "Epoch 12/50 - Training: 100%|██████████| 6158/6158 [08:55<00:00, 11.50it/s, loss=1.01]   \n"
     ]
    },
    {
     "name": "stdout",
     "output_type": "stream",
     "text": [
      "Época 12: Perda no Treino: 0.07125258380809564, Perda na Validação: 0.08823442602558701\n",
      "Acurácia na validação: 0.97%\n",
      "Relatório de Classificação da Validação:\n",
      "+-------------+------------+-------------+----------------+\n",
      "| Classe      |   Precisão |   Revocação |   Pontuação F1 |\n",
      "+=============+============+=============+================+\n",
      "| Negative    |       0.97 |        0.98 |           0.98 |\n",
      "+-------------+------------+-------------+----------------+\n",
      "| Positive    |       0.96 |        0.96 |           0.96 |\n",
      "+-------------+------------+-------------+----------------+\n",
      "| Uncertainty |       0.97 |        0.97 |           0.97 |\n",
      "+-------------+------------+-------------+----------------+\n",
      "| Litigious   |       0.96 |        0.95 |           0.96 |\n",
      "+-------------+------------+-------------+----------------+\n",
      "\n",
      "Acurácia Geral: 0.97%\n"
     ]
    },
    {
     "name": "stderr",
     "output_type": "stream",
     "text": [
      "Epoch 13/50 - Training: 100%|██████████| 6158/6158 [08:57<00:00, 11.45it/s, loss=0.004]  \n"
     ]
    },
    {
     "name": "stdout",
     "output_type": "stream",
     "text": [
      "Época 13: Perda no Treino: 0.06781421711544508, Perda na Validação: 0.0915689571007326\n",
      "Acurácia na validação: 0.97%\n",
      "Relatório de Classificação da Validação:\n",
      "+-------------+------------+-------------+----------------+\n",
      "| Classe      |   Precisão |   Revocação |   Pontuação F1 |\n",
      "+=============+============+=============+================+\n",
      "| Negative    |       0.98 |        0.98 |           0.98 |\n",
      "+-------------+------------+-------------+----------------+\n",
      "| Positive    |       0.97 |        0.96 |           0.96 |\n",
      "+-------------+------------+-------------+----------------+\n",
      "| Uncertainty |       0.97 |        0.96 |           0.97 |\n",
      "+-------------+------------+-------------+----------------+\n",
      "| Litigious   |       0.95 |        0.97 |           0.96 |\n",
      "+-------------+------------+-------------+----------------+\n",
      "\n",
      "Acurácia Geral: 0.97%\n"
     ]
    },
    {
     "name": "stderr",
     "output_type": "stream",
     "text": [
      "Epoch 14/50 - Training: 100%|██████████| 6158/6158 [08:59<00:00, 11.42it/s, loss=0.00153]\n"
     ]
    },
    {
     "name": "stdout",
     "output_type": "stream",
     "text": [
      "Época 14: Perda no Treino: 0.06493328442988683, Perda na Validação: 0.0886741908902463\n",
      "Acurácia na validação: 0.97%\n",
      "Relatório de Classificação da Validação:\n",
      "+-------------+------------+-------------+----------------+\n",
      "| Classe      |   Precisão |   Revocação |   Pontuação F1 |\n",
      "+=============+============+=============+================+\n",
      "| Negative    |       0.98 |        0.98 |           0.98 |\n",
      "+-------------+------------+-------------+----------------+\n",
      "| Positive    |       0.96 |        0.96 |           0.96 |\n",
      "+-------------+------------+-------------+----------------+\n",
      "| Uncertainty |       0.98 |        0.96 |           0.97 |\n",
      "+-------------+------------+-------------+----------------+\n",
      "| Litigious   |       0.96 |        0.96 |           0.96 |\n",
      "+-------------+------------+-------------+----------------+\n",
      "\n",
      "Acurácia Geral: 0.97%\n"
     ]
    },
    {
     "name": "stderr",
     "output_type": "stream",
     "text": [
      "Epoch 15/50 - Training: 100%|██████████| 6158/6158 [08:55<00:00, 11.51it/s, loss=0.309]  \n"
     ]
    },
    {
     "name": "stdout",
     "output_type": "stream",
     "text": [
      "Época 15: Perda no Treino: 0.061863243922210244, Perda na Validação: 0.08974178449892205\n",
      "Acurácia na validação: 0.97%\n",
      "Relatório de Classificação da Validação:\n",
      "+-------------+------------+-------------+----------------+\n",
      "| Classe      |   Precisão |   Revocação |   Pontuação F1 |\n",
      "+=============+============+=============+================+\n",
      "| Negative    |       0.97 |        0.98 |           0.98 |\n",
      "+-------------+------------+-------------+----------------+\n",
      "| Positive    |       0.96 |        0.96 |           0.96 |\n",
      "+-------------+------------+-------------+----------------+\n",
      "| Uncertainty |       0.97 |        0.96 |           0.97 |\n",
      "+-------------+------------+-------------+----------------+\n",
      "| Litigious   |       0.96 |        0.96 |           0.96 |\n",
      "+-------------+------------+-------------+----------------+\n",
      "\n",
      "Acurácia Geral: 0.97%\n"
     ]
    },
    {
     "name": "stderr",
     "output_type": "stream",
     "text": [
      "Epoch 16/50 - Training: 100%|██████████| 6158/6158 [08:55<00:00, 11.49it/s, loss=0.00035]\n"
     ]
    },
    {
     "name": "stdout",
     "output_type": "stream",
     "text": [
      "Época 16: Perda no Treino: 0.058885427997601436, Perda na Validação: 0.09470267914924217\n",
      "Acurácia na validação: 0.97%\n",
      "Relatório de Classificação da Validação:\n",
      "+-------------+------------+-------------+----------------+\n",
      "| Classe      |   Precisão |   Revocação |   Pontuação F1 |\n",
      "+=============+============+=============+================+\n",
      "| Negative    |       0.98 |        0.97 |           0.98 |\n",
      "+-------------+------------+-------------+----------------+\n",
      "| Positive    |       0.96 |        0.96 |           0.96 |\n",
      "+-------------+------------+-------------+----------------+\n",
      "| Uncertainty |       0.97 |        0.97 |           0.97 |\n",
      "+-------------+------------+-------------+----------------+\n",
      "| Litigious   |       0.96 |        0.96 |           0.96 |\n",
      "+-------------+------------+-------------+----------------+\n",
      "\n",
      "Acurácia Geral: 0.97%\n"
     ]
    },
    {
     "name": "stderr",
     "output_type": "stream",
     "text": [
      "Epoch 17/50 - Training: 100%|██████████| 6158/6158 [08:55<00:00, 11.50it/s, loss=0.00369]\n"
     ]
    },
    {
     "name": "stdout",
     "output_type": "stream",
     "text": [
      "Época 17: Perda no Treino: 0.047958908698234354, Perda na Validação: 0.10307002110707066\n",
      "Acurácia na validação: 0.97%\n",
      "Relatório de Classificação da Validação:\n",
      "+-------------+------------+-------------+----------------+\n",
      "| Classe      |   Precisão |   Revocação |   Pontuação F1 |\n",
      "+=============+============+=============+================+\n",
      "| Negative    |       0.97 |        0.98 |           0.98 |\n",
      "+-------------+------------+-------------+----------------+\n",
      "| Positive    |       0.96 |        0.97 |           0.96 |\n",
      "+-------------+------------+-------------+----------------+\n",
      "| Uncertainty |       0.97 |        0.96 |           0.97 |\n",
      "+-------------+------------+-------------+----------------+\n",
      "| Litigious   |       0.96 |        0.96 |           0.96 |\n",
      "+-------------+------------+-------------+----------------+\n",
      "\n",
      "Acurácia Geral: 0.97%\n"
     ]
    },
    {
     "name": "stderr",
     "output_type": "stream",
     "text": [
      "Epoch 18/50 - Training: 100%|██████████| 6158/6158 [09:16<00:00, 11.06it/s, loss=0.205]   \n"
     ]
    },
    {
     "name": "stdout",
     "output_type": "stream",
     "text": [
      "Época 18: Perda no Treino: 0.04416934269976165, Perda na Validação: 0.11084862965369154\n",
      "Acurácia na validação: 0.96%\n",
      "Relatório de Classificação da Validação:\n",
      "+-------------+------------+-------------+----------------+\n",
      "| Classe      |   Precisão |   Revocação |   Pontuação F1 |\n",
      "+=============+============+=============+================+\n",
      "| Negative    |       0.97 |        0.98 |           0.97 |\n",
      "+-------------+------------+-------------+----------------+\n",
      "| Positive    |       0.96 |        0.97 |           0.96 |\n",
      "+-------------+------------+-------------+----------------+\n",
      "| Uncertainty |       0.97 |        0.96 |           0.97 |\n",
      "+-------------+------------+-------------+----------------+\n",
      "| Litigious   |       0.95 |        0.96 |           0.96 |\n",
      "+-------------+------------+-------------+----------------+\n",
      "\n",
      "Acurácia Geral: 0.96%\n"
     ]
    },
    {
     "name": "stderr",
     "output_type": "stream",
     "text": [
      "Epoch 19/50 - Training: 100%|██████████| 6158/6158 [09:07<00:00, 11.26it/s, loss=0.000518]\n"
     ]
    },
    {
     "name": "stdout",
     "output_type": "stream",
     "text": [
      "Época 19: Perda no Treino: 0.04138794464003632, Perda na Validação: 0.11768892919304484\n",
      "Acurácia na validação: 0.96%\n",
      "Relatório de Classificação da Validação:\n",
      "+-------------+------------+-------------+----------------+\n",
      "| Classe      |   Precisão |   Revocação |   Pontuação F1 |\n",
      "+=============+============+=============+================+\n",
      "| Negative    |       0.97 |        0.97 |           0.97 |\n",
      "+-------------+------------+-------------+----------------+\n",
      "| Positive    |       0.96 |        0.96 |           0.96 |\n",
      "+-------------+------------+-------------+----------------+\n",
      "| Uncertainty |       0.97 |        0.96 |           0.96 |\n",
      "+-------------+------------+-------------+----------------+\n",
      "| Litigious   |       0.95 |        0.96 |           0.95 |\n",
      "+-------------+------------+-------------+----------------+\n",
      "\n",
      "Acurácia Geral: 0.96%\n"
     ]
    },
    {
     "name": "stderr",
     "output_type": "stream",
     "text": [
      "Epoch 20/50 - Training: 100%|██████████| 6158/6158 [08:55<00:00, 11.50it/s, loss=0.0131]  \n"
     ]
    },
    {
     "name": "stdout",
     "output_type": "stream",
     "text": [
      "Época 20: Perda no Treino: 0.03892450783981989, Perda na Validação: 0.11519571518405493\n",
      "Acurácia na validação: 0.96%\n",
      "Relatório de Classificação da Validação:\n",
      "+-------------+------------+-------------+----------------+\n",
      "| Classe      |   Precisão |   Revocação |   Pontuação F1 |\n",
      "+=============+============+=============+================+\n",
      "| Negative    |       0.98 |        0.97 |           0.97 |\n",
      "+-------------+------------+-------------+----------------+\n",
      "| Positive    |       0.96 |        0.96 |           0.96 |\n",
      "+-------------+------------+-------------+----------------+\n",
      "| Uncertainty |       0.97 |        0.96 |           0.97 |\n",
      "+-------------+------------+-------------+----------------+\n",
      "| Litigious   |       0.95 |        0.96 |           0.96 |\n",
      "+-------------+------------+-------------+----------------+\n",
      "\n",
      "Acurácia Geral: 0.96%\n",
      "Parada antecipada após 10 épocas sem melhora.\n",
      "Treinamento concluído com sucesso.\n",
      "Avaliando o modelo nos dados de teste...\n",
      "Perda em teste: 0.0861\n",
      "Acurácia em teste: 0.97%\n",
      "Relatório de classificação:\n",
      "\n",
      "+-------------+------------+-------------+----------------+\n",
      "| Classe      |   Precisão |   Revocação |   Pontuação F1 |\n",
      "+=============+============+=============+================+\n",
      "| Negative    |       0.98 |        0.98 |           0.98 |\n",
      "+-------------+------------+-------------+----------------+\n",
      "| Positive    |       0.96 |        0.97 |           0.96 |\n",
      "+-------------+------------+-------------+----------------+\n",
      "| Uncertainty |       0.96 |        0.97 |           0.97 |\n",
      "+-------------+------------+-------------+----------------+\n",
      "| Litigious   |       0.97 |        0.95 |           0.96 |\n",
      "+-------------+------------+-------------+----------------+\n",
      "\n",
      "Acurácia Geral: 0.97%\n",
      "Avaliação em teste concluída.\n",
      "Salvando o modelo treinado e vocabulário...\n",
      "Modelo, vocabulário, e codificador de label salvos com sucesso.\n"
     ]
    }
   ],
   "source": [
    "# Treinando com learning rate de 0.0001\n",
    "\n",
    "if __name__ == '__main__':\n",
    "    main()"
   ]
  }
 ],
 "metadata": {
  "kernelspec": {
   "display_name": "pyDS",
   "language": "python",
   "name": "python3"
  },
  "language_info": {
   "codemirror_mode": {
    "name": "ipython",
    "version": 3
   },
   "file_extension": ".py",
   "mimetype": "text/x-python",
   "name": "python",
   "nbconvert_exporter": "python",
   "pygments_lexer": "ipython3",
   "version": "3.11.8"
  }
 },
 "nbformat": 4,
 "nbformat_minor": 2
}
